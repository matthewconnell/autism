{
 "cells": [
  {
   "cell_type": "code",
   "execution_count": 10,
   "metadata": {
    "scrolled": true
   },
   "outputs": [],
   "source": [
    "#load packages\n",
    "library(tidyverse)\n",
    "library(reshape2)"
   ]
  },
  {
   "cell_type": "markdown",
   "metadata": {},
   "source": [
    "### Read in Files "
   ]
  },
  {
   "cell_type": "code",
   "execution_count": 11,
   "metadata": {},
   "outputs": [
    {
     "name": "stderr",
     "output_type": "stream",
     "text": [
      "Parsed with column specification:\n",
      "cols(\n",
      "  .default = col_double(),\n",
      "  gender = \u001b[31mcol_character()\u001b[39m,\n",
      "  ethnicity = \u001b[31mcol_character()\u001b[39m,\n",
      "  jundice = \u001b[31mcol_character()\u001b[39m,\n",
      "  austim = \u001b[31mcol_character()\u001b[39m,\n",
      "  contry_of_res = \u001b[31mcol_character()\u001b[39m,\n",
      "  used_app_before = \u001b[31mcol_character()\u001b[39m,\n",
      "  age_desc = \u001b[31mcol_character()\u001b[39m,\n",
      "  relation = \u001b[31mcol_character()\u001b[39m,\n",
      "  `Class/ASD` = \u001b[31mcol_character()\u001b[39m\n",
      ")\n",
      "\n",
      "See spec(...) for full column specifications.\n",
      "\n"
     ]
    }
   ],
   "source": [
    "df_autism <- read_csv(\"../data/Autism-Child-Data.csv\")\n",
    "# df_autism_train <- read_csv(\"..data/autism_screening_children_X_train.csv\")"
   ]
  },
  {
   "cell_type": "markdown",
   "metadata": {},
   "source": [
    "## Clean Names"
   ]
  },
  {
   "cell_type": "code",
   "execution_count": 12,
   "metadata": {},
   "outputs": [],
   "source": [
    "names(df_autism) <- make.names(names(df_autism))"
   ]
  },
  {
   "cell_type": "markdown",
   "metadata": {},
   "source": [
    "## Shape of Dataframe"
   ]
  },
  {
   "cell_type": "code",
   "execution_count": 20,
   "metadata": {
    "scrolled": true
   },
   "outputs": [
    {
     "name": "stdout",
     "output_type": "stream",
     "text": [
      "[1] \"Dataframe has 292 rows\"\n",
      "[1] \"Dataframe has 21 columns\"\n"
     ]
    }
   ],
   "source": [
    "#Check number of rows \n",
    "print(paste0(\"Dataframe has \", nrow(df_autism), \" rows\"))\n",
    "print(paste0(\"Dataframe has \", ncol(df_autism), \" columns\"))"
   ]
  },
  {
   "cell_type": "code",
   "execution_count": 21,
   "metadata": {},
   "outputs": [],
   "source": [
    "set.seed(2020)\n",
    "sample_size <- floor(0.8 * nrow(df_autism))\n",
    "df_autism_sample <- sample(seq_len(nrow(df_autism)), size = sample_size)"
   ]
  },
  {
   "cell_type": "markdown",
   "metadata": {},
   "source": [
    "## Structure"
   ]
  },
  {
   "cell_type": "code",
   "execution_count": 22,
   "metadata": {},
   "outputs": [
    {
     "name": "stdout",
     "output_type": "stream",
     "text": [
      "Classes ‘spec_tbl_df’, ‘tbl_df’, ‘tbl’ and 'data.frame':\t292 obs. of  21 variables:\n",
      " $ A1_Score       : num  1 1 1 0 1 0 1 1 1 0 ...\n",
      " $ A2_Score       : num  1 1 1 1 1 0 0 1 1 0 ...\n",
      " $ A3_Score       : num  0 0 0 0 1 1 1 1 1 1 ...\n",
      " $ A4_Score       : num  0 0 0 0 1 0 1 1 1 1 ...\n",
      " $ A5_Score       : num  1 1 0 1 1 1 1 1 1 1 ...\n",
      " $ A6_Score       : num  1 1 1 1 1 1 1 1 1 0 ...\n",
      " $ A7_Score       : num  0 0 1 0 1 0 0 1 1 1 ...\n",
      " $ A8_Score       : num  1 1 1 0 1 1 1 1 0 1 ...\n",
      " $ A9_Score       : num  0 0 0 0 1 0 0 0 0 0 ...\n",
      " $ A10_Score      : num  0 0 0 1 1 1 1 0 0 0 ...\n",
      " $ age            : num  6 6 6 5 5 4 5 5 11 11 ...\n",
      " $ gender         : Factor w/ 2 levels \"f\",\"m\": 2 2 2 1 2 2 2 1 1 1 ...\n",
      " $ ethnicity      : chr  \"Others\" \"Middle Eastern\" \"?\" \"?\" ...\n",
      " $ jundice        : Factor w/ 2 levels \"no\",\"yes\": 1 1 1 2 2 1 1 1 1 1 ...\n",
      " $ austim         : Factor w/ 2 levels \"no\",\"yes\": 1 1 1 1 1 2 1 1 1 2 ...\n",
      " $ contry_of_res  : chr  \"Jordan\" \"Jordan\" \"Jordan\" \"Jordan\" ...\n",
      " $ used_app_before: Factor w/ 2 levels \"no\",\"yes\": 1 1 2 1 1 1 1 1 1 1 ...\n",
      " $ result         : num  5 5 5 4 10 5 7 8 7 5 ...\n",
      " $ age_desc       : chr  \"4-11 years\" \"4-11 years\" \"4-11 years\" \"4-11 years\" ...\n",
      " $ relation       : chr  \"Parent\" \"Parent\" \"?\" \"?\" ...\n",
      " $ Class.ASD      : Factor w/ 2 levels \"NO\",\"YES\": 1 1 1 1 2 1 2 2 2 1 ...\n",
      " - attr(*, \"spec\")=\n",
      "  .. cols(\n",
      "  ..   A1_Score = \u001b[32mcol_double()\u001b[39m,\n",
      "  ..   A2_Score = \u001b[32mcol_double()\u001b[39m,\n",
      "  ..   A3_Score = \u001b[32mcol_double()\u001b[39m,\n",
      "  ..   A4_Score = \u001b[32mcol_double()\u001b[39m,\n",
      "  ..   A5_Score = \u001b[32mcol_double()\u001b[39m,\n",
      "  ..   A6_Score = \u001b[32mcol_double()\u001b[39m,\n",
      "  ..   A7_Score = \u001b[32mcol_double()\u001b[39m,\n",
      "  ..   A8_Score = \u001b[32mcol_double()\u001b[39m,\n",
      "  ..   A9_Score = \u001b[32mcol_double()\u001b[39m,\n",
      "  ..   A10_Score = \u001b[32mcol_double()\u001b[39m,\n",
      "  ..   age = \u001b[32mcol_double()\u001b[39m,\n",
      "  ..   gender = \u001b[31mcol_character()\u001b[39m,\n",
      "  ..   ethnicity = \u001b[31mcol_character()\u001b[39m,\n",
      "  ..   jundice = \u001b[31mcol_character()\u001b[39m,\n",
      "  ..   austim = \u001b[31mcol_character()\u001b[39m,\n",
      "  ..   contry_of_res = \u001b[31mcol_character()\u001b[39m,\n",
      "  ..   used_app_before = \u001b[31mcol_character()\u001b[39m,\n",
      "  ..   result = \u001b[32mcol_double()\u001b[39m,\n",
      "  ..   age_desc = \u001b[31mcol_character()\u001b[39m,\n",
      "  ..   relation = \u001b[31mcol_character()\u001b[39m,\n",
      "  ..   `Class/ASD` = \u001b[31mcol_character()\u001b[39m\n",
      "  .. )\n"
     ]
    }
   ],
   "source": [
    "#Check Structure\n",
    "str(df_autism)"
   ]
  },
  {
   "cell_type": "markdown",
   "metadata": {},
   "source": [
    "- `A1-A10` scores are numerical which is an appropriate data type for analysis downstream.\n",
    "- `Age` is numerical which is an appropriate data type for analysis downstream.\n",
    "- `Ethnicity` is character which may be appropriate for analyses. \n",
    "\t- There seems to be some number of NAs further digging into this variable is needed.  \n",
    "- `Gender` is a character: however, it should be changed to a factor. \n",
    "- `Jundice` is a character: however, it should be changed to a factor.\n",
    "- `austim` is a character: however, it should be changed to a factor.\n",
    "- `contry_of_res` is a character which is an appropriate data type for analysis downstream.\n",
    "- `used_app_before` is a character: however, it should be changed to a factor.\n",
    "- `result` is numerical which is an appropriate data type for analysis downstream.\n",
    "- `Age_desc` is a character: however, it should be changed to a factor.\n",
    "\t- However, this column might be redundant with age.\n",
    "- `Relation` is character which may be appropriate for analyses. \n",
    "\t- There seems to be some number of NAs further digging into this variable is needed. \n",
    "- `Class.ASD` is a character: however, it should be changed to a factor.\n"
   ]
  },
  {
   "cell_type": "markdown",
   "metadata": {},
   "source": [
    "## Clean and Explore Columns"
   ]
  },
  {
   "cell_type": "code",
   "execution_count": 23,
   "metadata": {},
   "outputs": [],
   "source": [
    "columns_chng_factor_full <- c(\"gender\", 'jundice', 'austim', 'used_app_before', 'Class.ASD')\n"
   ]
  },
  {
   "cell_type": "code",
   "execution_count": 26,
   "metadata": {},
   "outputs": [],
   "source": [
    "#Fix factor level\n",
    "for (col in columns_chng_factor_full) {\n",
    "    df_autism[[col]] <- as.factor(df_autism[[col]])\n",
    "    \n",
    "}\n"
   ]
  },
  {
   "cell_type": "code",
   "execution_count": 46,
   "metadata": {},
   "outputs": [
    {
     "data": {
      "text/html": [
       "TRUE"
      ],
      "text/latex": [
       "TRUE"
      ],
      "text/markdown": [
       "TRUE"
      ],
      "text/plain": [
       "[1] TRUE"
      ]
     },
     "metadata": {},
     "output_type": "display_data"
    }
   ],
   "source": [
    "#Split into train and test sets for EDA\n",
    "set.seed(1)\n",
    "train_size <- floor(nrow(df_autism)*0.8)\n",
    "train_index <- sample(seq_len(nrow(df_autism)), train_size)\n",
    "\n",
    "train <- df_autism[train_index,]\n",
    "test <- df_autism[-train_index,]\n",
    "\n",
    "#Check sizes\n",
    "nrow(train) + nrow(test) == nrow(df_autism)\n",
    "\n",
    "#Attribution:\n",
    "# https://stackoverflow.com/questions/17200114/how-to-split-data-into-training-testing-sets-using-sample-function"
   ]
  },
  {
   "cell_type": "code",
   "execution_count": 52,
   "metadata": {},
   "outputs": [
    {
     "data": {
      "text/html": [
       "<table>\n",
       "<caption>A tibble: 6 × 21</caption>\n",
       "<thead>\n",
       "\t<tr><th scope=col>A1_Score</th><th scope=col>A2_Score</th><th scope=col>A3_Score</th><th scope=col>A4_Score</th><th scope=col>A5_Score</th><th scope=col>A6_Score</th><th scope=col>A7_Score</th><th scope=col>A8_Score</th><th scope=col>A9_Score</th><th scope=col>A10_Score</th><th scope=col>⋯</th><th scope=col>gender</th><th scope=col>ethnicity</th><th scope=col>jundice</th><th scope=col>austim</th><th scope=col>contry_of_res</th><th scope=col>used_app_before</th><th scope=col>result</th><th scope=col>age_desc</th><th scope=col>relation</th><th scope=col>Class.ASD</th></tr>\n",
       "\t<tr><th scope=col>&lt;dbl&gt;</th><th scope=col>&lt;dbl&gt;</th><th scope=col>&lt;dbl&gt;</th><th scope=col>&lt;dbl&gt;</th><th scope=col>&lt;dbl&gt;</th><th scope=col>&lt;dbl&gt;</th><th scope=col>&lt;dbl&gt;</th><th scope=col>&lt;dbl&gt;</th><th scope=col>&lt;dbl&gt;</th><th scope=col>&lt;dbl&gt;</th><th scope=col>⋯</th><th scope=col>&lt;fct&gt;</th><th scope=col>&lt;chr&gt;</th><th scope=col>&lt;fct&gt;</th><th scope=col>&lt;fct&gt;</th><th scope=col>&lt;chr&gt;</th><th scope=col>&lt;fct&gt;</th><th scope=col>&lt;dbl&gt;</th><th scope=col>&lt;chr&gt;</th><th scope=col>&lt;chr&gt;</th><th scope=col>&lt;fct&gt;</th></tr>\n",
       "</thead>\n",
       "<tbody>\n",
       "\t<tr><td>0</td><td>0</td><td>0</td><td>0</td><td>1</td><td>0</td><td>1</td><td>1</td><td>0</td><td>1</td><td>⋯</td><td>m</td><td>Middle Eastern</td><td>no </td><td>no</td><td>United Arab Emirates</td><td>no </td><td>4</td><td>4-11 years</td><td>Parent</td><td>NO </td></tr>\n",
       "\t<tr><td>1</td><td>0</td><td>1</td><td>0</td><td>1</td><td>1</td><td>1</td><td>1</td><td>0</td><td>0</td><td>⋯</td><td>m</td><td>Asian         </td><td>no </td><td>no</td><td>India               </td><td>yes</td><td>6</td><td>4-11 years</td><td>Parent</td><td>NO </td></tr>\n",
       "\t<tr><td>1</td><td>0</td><td>1</td><td>0</td><td>0</td><td>0</td><td>1</td><td>1</td><td>0</td><td>0</td><td>⋯</td><td>m</td><td>Middle Eastern</td><td>yes</td><td>no</td><td>New Zealand         </td><td>no </td><td>4</td><td>4-11 years</td><td>Parent</td><td>NO </td></tr>\n",
       "\t<tr><td>1</td><td>1</td><td>1</td><td>0</td><td>1</td><td>0</td><td>1</td><td>1</td><td>1</td><td>1</td><td>⋯</td><td>m</td><td>White-European</td><td>yes</td><td>no</td><td>United States       </td><td>no </td><td>8</td><td>4-11 years</td><td>Parent</td><td>YES</td></tr>\n",
       "\t<tr><td>0</td><td>0</td><td>1</td><td>0</td><td>1</td><td>1</td><td>1</td><td>0</td><td>1</td><td>1</td><td>⋯</td><td>m</td><td>Asian         </td><td>no </td><td>no</td><td>India               </td><td>no </td><td>6</td><td>4-11 years</td><td>Parent</td><td>NO </td></tr>\n",
       "\t<tr><td>0</td><td>0</td><td>1</td><td>0</td><td>1</td><td>1</td><td>1</td><td>1</td><td>0</td><td>1</td><td>⋯</td><td>m</td><td>Asian         </td><td>no </td><td>no</td><td>India               </td><td>no </td><td>6</td><td>4-11 years</td><td>Parent</td><td>NO </td></tr>\n",
       "</tbody>\n",
       "</table>\n"
      ],
      "text/latex": [
       "A tibble: 6 × 21\n",
       "\\begin{tabular}{r|lllllllllllllllllllll}\n",
       " A1\\_Score & A2\\_Score & A3\\_Score & A4\\_Score & A5\\_Score & A6\\_Score & A7\\_Score & A8\\_Score & A9\\_Score & A10\\_Score & age & gender & ethnicity & jundice & austim & contry\\_of\\_res & used\\_app\\_before & result & age\\_desc & relation & Class.ASD\\\\\n",
       " <dbl> & <dbl> & <dbl> & <dbl> & <dbl> & <dbl> & <dbl> & <dbl> & <dbl> & <dbl> & <dbl> & <fct> & <chr> & <fct> & <fct> & <chr> & <fct> & <dbl> & <chr> & <chr> & <fct>\\\\\n",
       "\\hline\n",
       "\t 0 & 0 & 0 & 0 & 1 & 0 & 1 & 1 & 0 & 1 &  8 & m & Middle Eastern & no  & no & United Arab Emirates & no  & 4 & 4-11 years & Parent & NO \\\\\n",
       "\t 1 & 0 & 1 & 0 & 1 & 1 & 1 & 1 & 0 & 0 &  9 & m & Asian          & no  & no & India                & yes & 6 & 4-11 years & Parent & NO \\\\\n",
       "\t 1 & 0 & 1 & 0 & 0 & 0 & 1 & 1 & 0 & 0 &  9 & m & Middle Eastern & yes & no & New Zealand          & no  & 4 & 4-11 years & Parent & NO \\\\\n",
       "\t 1 & 1 & 1 & 0 & 1 & 0 & 1 & 1 & 1 & 1 &  4 & m & White-European & yes & no & United States        & no  & 8 & 4-11 years & Parent & YES\\\\\n",
       "\t 0 & 0 & 1 & 0 & 1 & 1 & 1 & 0 & 1 & 1 &  4 & m & Asian          & no  & no & India                & no  & 6 & 4-11 years & Parent & NO \\\\\n",
       "\t 0 & 0 & 1 & 0 & 1 & 1 & 1 & 1 & 0 & 1 & 11 & m & Asian          & no  & no & India                & no  & 6 & 4-11 years & Parent & NO \\\\\n",
       "\\end{tabular}\n"
      ],
      "text/markdown": [
       "\n",
       "A tibble: 6 × 21\n",
       "\n",
       "| A1_Score &lt;dbl&gt; | A2_Score &lt;dbl&gt; | A3_Score &lt;dbl&gt; | A4_Score &lt;dbl&gt; | A5_Score &lt;dbl&gt; | A6_Score &lt;dbl&gt; | A7_Score &lt;dbl&gt; | A8_Score &lt;dbl&gt; | A9_Score &lt;dbl&gt; | A10_Score &lt;dbl&gt; | ⋯ ⋯ | gender &lt;fct&gt; | ethnicity &lt;chr&gt; | jundice &lt;fct&gt; | austim &lt;fct&gt; | contry_of_res &lt;chr&gt; | used_app_before &lt;fct&gt; | result &lt;dbl&gt; | age_desc &lt;chr&gt; | relation &lt;chr&gt; | Class.ASD &lt;fct&gt; |\n",
       "|---|---|---|---|---|---|---|---|---|---|---|---|---|---|---|---|---|---|---|---|---|\n",
       "| 0 | 0 | 0 | 0 | 1 | 0 | 1 | 1 | 0 | 1 | ⋯ | m | Middle Eastern | no  | no | United Arab Emirates | no  | 4 | 4-11 years | Parent | NO  |\n",
       "| 1 | 0 | 1 | 0 | 1 | 1 | 1 | 1 | 0 | 0 | ⋯ | m | Asian          | no  | no | India                | yes | 6 | 4-11 years | Parent | NO  |\n",
       "| 1 | 0 | 1 | 0 | 0 | 0 | 1 | 1 | 0 | 0 | ⋯ | m | Middle Eastern | yes | no | New Zealand          | no  | 4 | 4-11 years | Parent | NO  |\n",
       "| 1 | 1 | 1 | 0 | 1 | 0 | 1 | 1 | 1 | 1 | ⋯ | m | White-European | yes | no | United States        | no  | 8 | 4-11 years | Parent | YES |\n",
       "| 0 | 0 | 1 | 0 | 1 | 1 | 1 | 0 | 1 | 1 | ⋯ | m | Asian          | no  | no | India                | no  | 6 | 4-11 years | Parent | NO  |\n",
       "| 0 | 0 | 1 | 0 | 1 | 1 | 1 | 1 | 0 | 1 | ⋯ | m | Asian          | no  | no | India                | no  | 6 | 4-11 years | Parent | NO  |\n",
       "\n"
      ],
      "text/plain": [
       "  A1_Score A2_Score A3_Score A4_Score A5_Score A6_Score A7_Score A8_Score\n",
       "1 0        0        0        0        1        0        1        1       \n",
       "2 1        0        1        0        1        1        1        1       \n",
       "3 1        0        1        0        0        0        1        1       \n",
       "4 1        1        1        0        1        0        1        1       \n",
       "5 0        0        1        0        1        1        1        0       \n",
       "6 0        0        1        0        1        1        1        1       \n",
       "  A9_Score A10_Score ⋯ gender ethnicity      jundice austim\n",
       "1 0        1         ⋯ m      Middle Eastern no      no    \n",
       "2 0        0         ⋯ m      Asian          no      no    \n",
       "3 0        0         ⋯ m      Middle Eastern yes     no    \n",
       "4 1        1         ⋯ m      White-European yes     no    \n",
       "5 1        1         ⋯ m      Asian          no      no    \n",
       "6 0        1         ⋯ m      Asian          no      no    \n",
       "  contry_of_res        used_app_before result age_desc   relation Class.ASD\n",
       "1 United Arab Emirates no              4      4-11 years Parent   NO       \n",
       "2 India                yes             6      4-11 years Parent   NO       \n",
       "3 New Zealand          no              4      4-11 years Parent   NO       \n",
       "4 United States        no              8      4-11 years Parent   YES      \n",
       "5 India                no              6      4-11 years Parent   NO       \n",
       "6 India                no              6      4-11 years Parent   NO       "
      ]
     },
     "metadata": {},
     "output_type": "display_data"
    }
   ],
   "source": [
    "#Head\n",
    "head(train)"
   ]
  },
  {
   "cell_type": "code",
   "execution_count": 53,
   "metadata": {},
   "outputs": [
    {
     "data": {
      "text/html": [
       "<table>\n",
       "<caption>A tibble: 6 × 21</caption>\n",
       "<thead>\n",
       "\t<tr><th scope=col>A1_Score</th><th scope=col>A2_Score</th><th scope=col>A3_Score</th><th scope=col>A4_Score</th><th scope=col>A5_Score</th><th scope=col>A6_Score</th><th scope=col>A7_Score</th><th scope=col>A8_Score</th><th scope=col>A9_Score</th><th scope=col>A10_Score</th><th scope=col>⋯</th><th scope=col>gender</th><th scope=col>ethnicity</th><th scope=col>jundice</th><th scope=col>austim</th><th scope=col>contry_of_res</th><th scope=col>used_app_before</th><th scope=col>result</th><th scope=col>age_desc</th><th scope=col>relation</th><th scope=col>Class.ASD</th></tr>\n",
       "\t<tr><th scope=col>&lt;dbl&gt;</th><th scope=col>&lt;dbl&gt;</th><th scope=col>&lt;dbl&gt;</th><th scope=col>&lt;dbl&gt;</th><th scope=col>&lt;dbl&gt;</th><th scope=col>&lt;dbl&gt;</th><th scope=col>&lt;dbl&gt;</th><th scope=col>&lt;dbl&gt;</th><th scope=col>&lt;dbl&gt;</th><th scope=col>&lt;dbl&gt;</th><th scope=col>⋯</th><th scope=col>&lt;fct&gt;</th><th scope=col>&lt;chr&gt;</th><th scope=col>&lt;fct&gt;</th><th scope=col>&lt;fct&gt;</th><th scope=col>&lt;chr&gt;</th><th scope=col>&lt;fct&gt;</th><th scope=col>&lt;dbl&gt;</th><th scope=col>&lt;chr&gt;</th><th scope=col>&lt;chr&gt;</th><th scope=col>&lt;fct&gt;</th></tr>\n",
       "</thead>\n",
       "<tbody>\n",
       "\t<tr><td>1</td><td>1</td><td>1</td><td>1</td><td>1</td><td>1</td><td>1</td><td>0</td><td>1</td><td>0</td><td>⋯</td><td>f</td><td>White-European</td><td>no </td><td>yes</td><td>United Kingdom</td><td>no</td><td>8</td><td>4-11 years</td><td>Parent  </td><td>YES</td></tr>\n",
       "\t<tr><td>1</td><td>0</td><td>0</td><td>1</td><td>0</td><td>1</td><td>0</td><td>0</td><td>0</td><td>0</td><td>⋯</td><td>m</td><td>White-European</td><td>no </td><td>no </td><td>New Zealand   </td><td>no</td><td>3</td><td>4-11 years</td><td>Parent  </td><td>NO </td></tr>\n",
       "\t<tr><td>1</td><td>1</td><td>1</td><td>0</td><td>1</td><td>1</td><td>0</td><td>1</td><td>0</td><td>1</td><td>⋯</td><td>m</td><td>?             </td><td>no </td><td>no </td><td>Lebanon       </td><td>no</td><td>7</td><td>4-11 years</td><td>?       </td><td>YES</td></tr>\n",
       "\t<tr><td>1</td><td>1</td><td>1</td><td>1</td><td>1</td><td>1</td><td>1</td><td>0</td><td>1</td><td>1</td><td>⋯</td><td>f</td><td>Asian         </td><td>no </td><td>no </td><td>Philippines   </td><td>no</td><td>9</td><td>4-11 years</td><td>Parent  </td><td>YES</td></tr>\n",
       "\t<tr><td>0</td><td>1</td><td>1</td><td>0</td><td>0</td><td>1</td><td>1</td><td>1</td><td>0</td><td>1</td><td>⋯</td><td>f</td><td>White-European</td><td>no </td><td>no </td><td>Netherlands   </td><td>no</td><td>6</td><td>4-11 years</td><td>Parent  </td><td>NO </td></tr>\n",
       "\t<tr><td>0</td><td>1</td><td>1</td><td>0</td><td>1</td><td>1</td><td>0</td><td>0</td><td>0</td><td>0</td><td>⋯</td><td>f</td><td>Middle Eastern</td><td>yes</td><td>no </td><td>Iraq          </td><td>no</td><td>4</td><td>4-11 years</td><td>Relative</td><td>NO </td></tr>\n",
       "</tbody>\n",
       "</table>\n"
      ],
      "text/latex": [
       "A tibble: 6 × 21\n",
       "\\begin{tabular}{r|lllllllllllllllllllll}\n",
       " A1\\_Score & A2\\_Score & A3\\_Score & A4\\_Score & A5\\_Score & A6\\_Score & A7\\_Score & A8\\_Score & A9\\_Score & A10\\_Score & age & gender & ethnicity & jundice & austim & contry\\_of\\_res & used\\_app\\_before & result & age\\_desc & relation & Class.ASD\\\\\n",
       " <dbl> & <dbl> & <dbl> & <dbl> & <dbl> & <dbl> & <dbl> & <dbl> & <dbl> & <dbl> & <dbl> & <fct> & <chr> & <fct> & <fct> & <chr> & <fct> & <dbl> & <chr> & <chr> & <fct>\\\\\n",
       "\\hline\n",
       "\t 1 & 1 & 1 & 1 & 1 & 1 & 1 & 0 & 1 & 0 &  4 & f & White-European & no  & yes & United Kingdom & no & 8 & 4-11 years & Parent   & YES\\\\\n",
       "\t 1 & 0 & 0 & 1 & 0 & 1 & 0 & 0 & 0 & 0 &  4 & m & White-European & no  & no  & New Zealand    & no & 3 & 4-11 years & Parent   & NO \\\\\n",
       "\t 1 & 1 & 1 & 0 & 1 & 1 & 0 & 1 & 0 & 1 &  4 & m & ?              & no  & no  & Lebanon        & no & 7 & 4-11 years & ?        & YES\\\\\n",
       "\t 1 & 1 & 1 & 1 & 1 & 1 & 1 & 0 & 1 & 1 &  7 & f & Asian          & no  & no  & Philippines    & no & 9 & 4-11 years & Parent   & YES\\\\\n",
       "\t 0 & 1 & 1 & 0 & 0 & 1 & 1 & 1 & 0 & 1 & 10 & f & White-European & no  & no  & Netherlands    & no & 6 & 4-11 years & Parent   & NO \\\\\n",
       "\t 0 & 1 & 1 & 0 & 1 & 1 & 0 & 0 & 0 & 0 &  4 & f & Middle Eastern & yes & no  & Iraq           & no & 4 & 4-11 years & Relative & NO \\\\\n",
       "\\end{tabular}\n"
      ],
      "text/markdown": [
       "\n",
       "A tibble: 6 × 21\n",
       "\n",
       "| A1_Score &lt;dbl&gt; | A2_Score &lt;dbl&gt; | A3_Score &lt;dbl&gt; | A4_Score &lt;dbl&gt; | A5_Score &lt;dbl&gt; | A6_Score &lt;dbl&gt; | A7_Score &lt;dbl&gt; | A8_Score &lt;dbl&gt; | A9_Score &lt;dbl&gt; | A10_Score &lt;dbl&gt; | ⋯ ⋯ | gender &lt;fct&gt; | ethnicity &lt;chr&gt; | jundice &lt;fct&gt; | austim &lt;fct&gt; | contry_of_res &lt;chr&gt; | used_app_before &lt;fct&gt; | result &lt;dbl&gt; | age_desc &lt;chr&gt; | relation &lt;chr&gt; | Class.ASD &lt;fct&gt; |\n",
       "|---|---|---|---|---|---|---|---|---|---|---|---|---|---|---|---|---|---|---|---|---|\n",
       "| 1 | 1 | 1 | 1 | 1 | 1 | 1 | 0 | 1 | 0 | ⋯ | f | White-European | no  | yes | United Kingdom | no | 8 | 4-11 years | Parent   | YES |\n",
       "| 1 | 0 | 0 | 1 | 0 | 1 | 0 | 0 | 0 | 0 | ⋯ | m | White-European | no  | no  | New Zealand    | no | 3 | 4-11 years | Parent   | NO  |\n",
       "| 1 | 1 | 1 | 0 | 1 | 1 | 0 | 1 | 0 | 1 | ⋯ | m | ?              | no  | no  | Lebanon        | no | 7 | 4-11 years | ?        | YES |\n",
       "| 1 | 1 | 1 | 1 | 1 | 1 | 1 | 0 | 1 | 1 | ⋯ | f | Asian          | no  | no  | Philippines    | no | 9 | 4-11 years | Parent   | YES |\n",
       "| 0 | 1 | 1 | 0 | 0 | 1 | 1 | 1 | 0 | 1 | ⋯ | f | White-European | no  | no  | Netherlands    | no | 6 | 4-11 years | Parent   | NO  |\n",
       "| 0 | 1 | 1 | 0 | 1 | 1 | 0 | 0 | 0 | 0 | ⋯ | f | Middle Eastern | yes | no  | Iraq           | no | 4 | 4-11 years | Relative | NO  |\n",
       "\n"
      ],
      "text/plain": [
       "  A1_Score A2_Score A3_Score A4_Score A5_Score A6_Score A7_Score A8_Score\n",
       "1 1        1        1        1        1        1        1        0       \n",
       "2 1        0        0        1        0        1        0        0       \n",
       "3 1        1        1        0        1        1        0        1       \n",
       "4 1        1        1        1        1        1        1        0       \n",
       "5 0        1        1        0        0        1        1        1       \n",
       "6 0        1        1        0        1        1        0        0       \n",
       "  A9_Score A10_Score ⋯ gender ethnicity      jundice austim contry_of_res \n",
       "1 1        0         ⋯ f      White-European no      yes    United Kingdom\n",
       "2 0        0         ⋯ m      White-European no      no     New Zealand   \n",
       "3 0        1         ⋯ m      ?              no      no     Lebanon       \n",
       "4 1        1         ⋯ f      Asian          no      no     Philippines   \n",
       "5 0        1         ⋯ f      White-European no      no     Netherlands   \n",
       "6 0        0         ⋯ f      Middle Eastern yes     no     Iraq          \n",
       "  used_app_before result age_desc   relation Class.ASD\n",
       "1 no              8      4-11 years Parent   YES      \n",
       "2 no              3      4-11 years Parent   NO       \n",
       "3 no              7      4-11 years ?        YES      \n",
       "4 no              9      4-11 years Parent   YES      \n",
       "5 no              6      4-11 years Parent   NO       \n",
       "6 no              4      4-11 years Relative NO       "
      ]
     },
     "metadata": {},
     "output_type": "display_data"
    }
   ],
   "source": [
    "#Tail\n",
    "tail(train)"
   ]
  },
  {
   "cell_type": "code",
   "execution_count": 48,
   "metadata": {},
   "outputs": [
    {
     "name": "stdout",
     "output_type": "stream",
     "text": [
      " [1] \"Middle Eastern\" \"Asian\"          \"White-European\" \"Black\"         \n",
      " [5] \"Latino\"         \"?\"              \"Pasifika\"       \"Hispanic\"      \n",
      " [9] \"Others\"         \"South Asian\"    \"Turkish\"       \n",
      "[1] \"There are 0 NAs\"\n"
     ]
    }
   ],
   "source": [
    "#Digging into ethnicity\n",
    "print(unique(train$ethnicity))\n",
    "print(paste0(\"There are \", sum(is.na(train$ethnicity)), \" NAs\"))\n"
   ]
  },
  {
   "cell_type": "markdown",
   "metadata": {},
   "source": [
    "> There seems to be a large amount of NA’s in the ethnicity column it might need to be dropped downstream. "
   ]
  },
  {
   "cell_type": "code",
   "execution_count": 11,
   "metadata": {},
   "outputs": [
    {
     "name": "stdout",
     "output_type": "stream",
     "text": [
      "[1] \"Parent\"                   NA                        \n",
      "[3] \"Self\"                     \"Relative\"                \n",
      "[5] \"Health care professional\" \"self\"                    \n",
      "[1] \"There is 43NAs\"\n"
     ]
    }
   ],
   "source": [
    "#Digging into relation\n",
    "print(unique(df_autism$relation))\n",
    "print(paste0(\"There is \", sum(is.na(df_autism$relation)), \"NAs\"))\n"
   ]
  },
  {
   "cell_type": "markdown",
   "metadata": {},
   "source": [
    "> There seems to be a large amount of NA’s in the relation column it might need to be dropped downstream"
   ]
  },
  {
   "cell_type": "markdown",
   "metadata": {},
   "source": [
    "### From here onwards, the training set of X will be be used instead of the main dataframe to prevevent the Golden Rule from being violated. "
   ]
  },
  {
   "cell_type": "code",
   "execution_count": 49,
   "metadata": {},
   "outputs": [
    {
     "data": {
      "text/plain": [
       "    A1_Score         A2_Score         A3_Score         A4_Score     \n",
       " Min.   :0.0000   Min.   :0.0000   Min.   :0.0000   Min.   :0.0000  \n",
       " 1st Qu.:0.0000   1st Qu.:0.0000   1st Qu.:0.0000   1st Qu.:0.0000  \n",
       " Median :1.0000   Median :1.0000   Median :1.0000   Median :1.0000  \n",
       " Mean   :0.6266   Mean   :0.5408   Mean   :0.7382   Mean   :0.5494  \n",
       " 3rd Qu.:1.0000   3rd Qu.:1.0000   3rd Qu.:1.0000   3rd Qu.:1.0000  \n",
       " Max.   :1.0000   Max.   :1.0000   Max.   :1.0000   Max.   :1.0000  \n",
       "                                                                    \n",
       "    A5_Score         A6_Score         A7_Score         A8_Score     \n",
       " Min.   :0.0000   Min.   :0.0000   Min.   :0.0000   Min.   :0.0000  \n",
       " 1st Qu.:0.0000   1st Qu.:0.0000   1st Qu.:0.0000   1st Qu.:0.0000  \n",
       " Median :1.0000   Median :1.0000   Median :1.0000   Median :1.0000  \n",
       " Mean   :0.7382   Mean   :0.6996   Mean   :0.5966   Mean   :0.5064  \n",
       " 3rd Qu.:1.0000   3rd Qu.:1.0000   3rd Qu.:1.0000   3rd Qu.:1.0000  \n",
       " Max.   :1.0000   Max.   :1.0000   Max.   :1.0000   Max.   :1.0000  \n",
       "                                                                    \n",
       "    A9_Score        A10_Score           age         gender   ethnicity        \n",
       " Min.   :0.0000   Min.   :0.0000   Min.   : 4.000   f: 67   Length:233        \n",
       " 1st Qu.:0.0000   1st Qu.:0.0000   1st Qu.: 4.000   m:166   Class :character  \n",
       " Median :0.0000   Median :1.0000   Median : 6.000           Mode  :character  \n",
       " Mean   :0.4979   Mean   :0.7382   Mean   : 6.394                             \n",
       " 3rd Qu.:1.0000   3rd Qu.:1.0000   3rd Qu.: 8.000                             \n",
       " Max.   :1.0000   Max.   :1.0000   Max.   :11.000                             \n",
       "                                   NA's   :2                                  \n",
       " jundice   austim    contry_of_res      used_app_before     result      \n",
       " no :170   no :191   Length:233         no :224         Min.   : 0.000  \n",
       " yes: 63   yes: 42   Class :character   yes:  9         1st Qu.: 4.000  \n",
       "                     Mode  :character                   Median : 6.000  \n",
       "                                                        Mean   : 6.232  \n",
       "                                                        3rd Qu.: 8.000  \n",
       "                                                        Max.   :10.000  \n",
       "                                                                        \n",
       "   age_desc           relation         Class.ASD\n",
       " Length:233         Length:233         NO :117  \n",
       " Class :character   Class :character   YES:116  \n",
       " Mode  :character   Mode  :character            \n",
       "                                                \n",
       "                                                \n",
       "                                                \n",
       "                                                "
      ]
     },
     "metadata": {},
     "output_type": "display_data"
    }
   ],
   "source": [
    "summary(train)"
   ]
  },
  {
   "cell_type": "markdown",
   "metadata": {},
   "source": [
    "- `A1_Score` 62.23% answered yes \n",
    "- `A2_Score` 53.22% answered yes \n",
    "- `A3_Score` 72.96% answered yes \n",
    "- `A4_Score` 54.51% answered yes \n",
    "- `A5_Score` 74.25% answered yes \n",
    "- `A6_Score` 71.24% answered yes \n",
    "- `A7_Score` 60.52% answered yes \n",
    "- `A8_Score` 48.07% answered yes \n",
    "- `A9_Score` 48.07% answered yes \n",
    "- `A10_Score` 72.96% answered yes \n",
    "- `age` ranges from 4 to 11 with the median age being 6. There is a skew to a younger audience that participanted. \n",
    "- `gender` there is a 30% female and 70% male split\n",
    "- `used_app_before` not a lot of individuals used the app before taking the Autism Spectrum Quotient-10"
   ]
  },
  {
   "cell_type": "markdown",
   "metadata": {},
   "source": [
    "### Make a plot"
   ]
  },
  {
   "cell_type": "code",
   "execution_count": 51,
   "metadata": {},
   "outputs": [
    {
     "name": "stderr",
     "output_type": "stream",
     "text": [
      "Saving 7 x 7 in image\n",
      "\n"
     ]
    },
    {
     "data": {
      "image/png": "[encoded data removed]",
      "text/plain": [
       "plot without title"
      ]
     },
     "metadata": {
      "image/png": {
       "height": 420,
       "width": 420
      },
      "text/plain": {
       "height": 420,
       "width": 420
      }
     },
     "output_type": "display_data"
    }
   ],
   "source": [
    "a_score <- c('A1_Score', 'A2_Score', 'A3_Score', 'A4_Score', 'A5_Score', 'A6_Score', 'A7_Score', 'A8_Score', 'A9_Score', 'A10_Score')\n",
    "\n",
    "\n",
    "corr_heatmap <- train  %>% \n",
    "    select(a_score)  %>% \n",
    "    cor() %>% \n",
    "    melt() %>% \n",
    "    filter(value < 1) %>% \n",
    "    ggplot(aes(x=Var1, y=Var2, fill = value))+\n",
    "    geom_tile()+\n",
    "    ggtitle(\"Correlation Heatmap\")+\n",
    "    xlab(\"Predictor\")+\n",
    "    ylab(\"Predictor\")+\n",
    "    labs(fill = \"CORR\")\n",
    "\n",
    "corr_heatmap\n",
    "\n",
    "ggsave(\"../img/01_corr_heatmap.png\")"
   ]
  },
  {
   "cell_type": "markdown",
   "metadata": {},
   "source": [
    "> None of the questions in the Autism Spectrum Quotient-10 are highly correlated with each other. This makes the test more valid as questions are not related to each other more independent."
   ]
  },
  {
   "cell_type": "markdown",
   "metadata": {},
   "source": [
    "## Follow-up Questions"
   ]
  },
  {
   "cell_type": "markdown",
   "metadata": {},
   "source": [
    "1.\tDo you have the right data? Yes, I think the data fits answering our question of finding the three features that most strongly predicts whether an individual will be diagnosed with Autism Spectrum Disorder. \n",
    "\n",
    "2.\tDo you need other data? Due to the fact that this data frame only has 292 examples we could use more examples. However, due to the expense of collecting more examples we will have to make do with this limited dataset. \n",
    "\n",
    "3.\tDo you have the right question? We can still look for the three features that most strongly predict whether an individual will be diagnosed with Autism Spectrum Disorder. However, due to the large amount of NA’s in some sections those features may have to be dropped. Our analysis may focus on the Autism Spectrum Quotient-10 but, it is a good sign that the Autism Spectrum Quotient-10 questions are not correlated. "
   ]
  },
  {
   "cell_type": "code",
   "execution_count": null,
   "metadata": {},
   "outputs": [],
   "source": []
  }
 ],
 "metadata": {
  "kernelspec": {
   "display_name": "R",
   "language": "R",
   "name": "ir"
  },
  "language_info": {
   "codemirror_mode": "r",
   "file_extension": ".r",
   "mimetype": "text/x-r-source",
   "name": "R",
   "pygments_lexer": "r",
   "version": "3.6.1"
  }
 },
 "nbformat": 4,
 "nbformat_minor": 4
}
