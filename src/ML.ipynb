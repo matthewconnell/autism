{
 "cells": [
  {
   "cell_type": "code",
   "execution_count": 2,
   "metadata": {},
   "outputs": [],
   "source": [
    "import pandas as pd\n",
    "import numpy as np\n",
    "\n",
    "# Preprocessing\n",
    "from sklearn.preprocessing import StandardScaler, OneHotEncoder, LabelEncoder, PolynomialFeatures\n",
    "from sklearn.compose import ColumnTransformer\n",
    "\n",
    "# Models\n",
    "from sklearn.tree import DecisionTreeClassifier\n",
    "from sklearn.ensemble import RandomForestClassifier\n",
    "from sklearn.linear_model import LogisticRegression, LinearRegression\n",
    "from sklearn.svm import SVC\n",
    "from sklearn.neighbors import KNeighborsClassifier\n",
    "\n",
    "# Metrics\n",
    "from sklearn.metrics import mean_squared_error, confusion_matrix, classification_report, roc_curve\n",
    "\n",
    "# Model selection\n",
    "from sklearn.model_selection import GridSearchCV, train_test_split, cross_val_score\n",
    "from sklearn.pipeline import Pipeline\n",
    "\n",
    "# Feature selection\n",
    "from sklearn.feature_selection import RFE\n",
    "\n",
    "# Plotting\n",
    "import altair as alt"
   ]
  },
  {
   "cell_type": "code",
   "execution_count": 3,
   "metadata": {},
   "outputs": [],
   "source": [
    "X_train = pd.read_csv(\"../data/clean-data/Xtrain-clean-autism-screening.csv\", index_col=0)\n",
    "y_train = pd.read_csv(\"../data/clean-data/ytrain-clean-autism-screening.csv\", index_col=0)\n",
    "X_test = pd.read_csv(\"../data/clean-data/Xtest-clean-autism-screening.csv\", index_col=0)\n",
    "y_test = pd.read_csv(\"../data/clean-data/ytest-clean-autism-screening.csv\", index_col=0)\n",
    "\n",
    "\n",
    "# Make validation set \n",
    "\n",
    "X_train, X_valid, y_train, y_valid = train_test_split(X_train, y_train, test_size=0.2, random_state=414)\n",
    "\n",
    "numeric_features = [\"age\", \n",
    "                    \"result\"]\n",
    "\n",
    "one_hot_features = [\"gender\", \n",
    "                    \"ethnicity\", \n",
    "                    \"jaundice\", \n",
    "                    \"country_of_res\", \n",
    "                    \"used_app_before\", \n",
    "                    \"age_desc\", \n",
    "                    \"relation\",\n",
    "                    \"Class/ASD\"]\n",
    "\n",
    "other_columns = list(X_train.columns[0:10])"
   ]
  },
  {
   "cell_type": "code",
   "execution_count": 4,
   "metadata": {},
   "outputs": [],
   "source": [
    "preprocessor = ColumnTransformer(sparse_threshold=0,\n",
    "    transformers=[\n",
    "        (\"scale\", \n",
    "         StandardScaler(), \n",
    "         numeric_features),\n",
    "        (\"one_hot\", \n",
    "         OneHotEncoder(drop=None, \n",
    "                       handle_unknown=\"ignore\"), \n",
    "         one_hot_features)\n",
    "    ])\n",
    "\n",
    "X_train_temp = pd.DataFrame(preprocessor.fit_transform(X_train), \n",
    "            index = X_train.index,\n",
    "            columns = (numeric_features + \n",
    "                       list(preprocessor\n",
    "                           .named_transformers_[\"one_hot\"]\n",
    "                           .get_feature_names(one_hot_features)))\n",
    "                      )\n",
    "\n",
    "X_test_temp = pd.DataFrame(preprocessor.transform(X_test),\n",
    "                     index = X_test.index,\n",
    "                     columns = X_train_temp.columns)\n",
    "\n",
    "X_valid_temp = pd.DataFrame(preprocessor.transform(X_valid),\n",
    "                     index = X_valid.index,\n",
    "                     columns = X_train_temp.columns)\n",
    "\n",
    "X_train = X_train_temp.join(X_train[other_columns])\n",
    "X_test = X_test_temp.join(X_test[other_columns])\n",
    "X_valid = X_valid_temp.join(X_valid[other_columns])\n",
    "\n",
    "le = LabelEncoder()\n",
    "\n",
    "y_train = le.fit_transform(y_train.to_numpy().ravel())\n",
    "y_test = le.transform(y_test.to_numpy().ravel())\n",
    "y_valid = le.transform(y_valid.to_numpy().ravel())"
   ]
  },
  {
   "cell_type": "code",
   "execution_count": 16,
   "metadata": {},
   "outputs": [
    {
     "name": "stderr",
     "output_type": "stream",
     "text": [
      "/Users/matt/anaconda3/lib/python3.7/site-packages/sklearn/linear_model/_logistic.py:939: ConvergenceWarning: lbfgs failed to converge (status=1):\n",
      "STOP: TOTAL NO. of ITERATIONS REACHED LIMIT.\n",
      "\n",
      "Increase the number of iterations (max_iter) or scale the data as shown in:\n",
      "    https://scikit-learn.org/stable/modules/preprocessing.html.\n",
      "Please also refer to the documentation for alternative solver options:\n",
      "    https://scikit-learn.org/stable/modules/linear_model.html#logistic-regression\n",
      "  extra_warning_msg=_LOGISTIC_SOLVER_CONVERGENCE_MSG)\n"
     ]
    },
    {
     "data": {
      "text/plain": [
       "{'max_depth': 20, 'max_features': 50}"
      ]
     },
     "execution_count": 16,
     "metadata": {},
     "output_type": "execute_result"
    }
   ],
   "source": [
    "## Trying Gridsearch on different models to find best\n",
    "\n",
    "## Initialize models\n",
    "lr = LogisticRegression()\n",
    "dt = DecisionTreeClassifier(random_state=414)\n",
    "rf = RandomForestClassifier(random_state=414)\n",
    "svm = SVC(random_state=414)\n",
    "knn = KNeighborsClassifier()\n",
    "\n",
    "# Make list for models and a list to store their values\n",
    "estimators = [lr, dt, rf, svm, knn]\n",
    "best_parameters = []\n",
    "best_precision_scores = []\n",
    "\n",
    "# Make list of dictionaries for parameters\n",
    "params = [{'C':[0.000001, 0.00001, 0.0001, 0.001, 0.01, 0.1, 1, 10, 100, 1000],\n",
    "         'penalty': ['l1', 'l2']},\n",
    "         {'max_depth': [1, 5, 10, 15, 20, 25, None],\n",
    "         'max_features': [3, 5, 10, 20, 25, 50, 100, None]},\n",
    "         {'min_impurity_decrease': [0, 0.25, 0.5],\n",
    "         'max_features': [3, 5, 10, 20, 50, 100, 'auto']},\n",
    "         {'C':[0.000001, 0.00001, 0.0001, 0.001, 0.01, 0.1, 1, 10, 100, 1000],\n",
    "         'gamma':[0.000001, 0.00001, 0.0001, 0.001, 0.01, 0.1, 1, 10, 100]},\n",
    "         {'n_neighbors': [2, 5, 10, 15, 20, 50, 100],\n",
    "         'algorithm': ['auto', 'brute']}]\n",
    "\n",
    "# Run for loop to best parameters for each model\n",
    "# Scoring = recall to reduce false positives\n",
    "for i in range(len(estimators)):\n",
    "    search = GridSearchCV(estimator=estimators[i], \n",
    "                          param_grid=params[i],\n",
    "                          cv = 10,\n",
    "                          n_jobs=-1,\n",
    "                         scoring='recall')\n",
    "    \n",
    "    search_object = search.fit(X_train, y_train)\n",
    "    \n",
    "    # Store the output on each iteration\n",
    "    best_parameters.append(search_object.best_params_)\n",
    "    best_precision_scores.append(search_object.best_score_)\n",
    "\n",
    "best_parameters[np.argmax(best_precision_scores)]"
   ]
  },
  {
   "cell_type": "code",
   "execution_count": null,
   "metadata": {},
   "outputs": [],
   "source": []
  },
  {
   "cell_type": "code",
   "execution_count": 98,
   "metadata": {},
   "outputs": [
    {
     "data": {
      "text/html": [
       "<div>\n",
       "<style scoped>\n",
       "    .dataframe tbody tr th:only-of-type {\n",
       "        vertical-align: middle;\n",
       "    }\n",
       "\n",
       "    .dataframe tbody tr th {\n",
       "        vertical-align: top;\n",
       "    }\n",
       "\n",
       "    .dataframe thead th {\n",
       "        text-align: right;\n",
       "    }\n",
       "</style>\n",
       "<table border=\"1\" class=\"dataframe\">\n",
       "  <thead>\n",
       "    <tr style=\"text-align: right;\">\n",
       "      <th></th>\n",
       "      <th>predicted negative</th>\n",
       "      <th>predicted positive</th>\n",
       "    </tr>\n",
       "  </thead>\n",
       "  <tbody>\n",
       "    <tr>\n",
       "      <th>predicted negative</th>\n",
       "      <td>70</td>\n",
       "      <td>10</td>\n",
       "    </tr>\n",
       "    <tr>\n",
       "      <th>predicted positive</th>\n",
       "      <td>6</td>\n",
       "      <td>6</td>\n",
       "    </tr>\n",
       "  </tbody>\n",
       "</table>\n",
       "</div>"
      ],
      "text/plain": [
       "                    predicted negative  predicted positive\n",
       "predicted negative                  70                  10\n",
       "predicted positive                   6                   6"
      ]
     },
     "execution_count": 98,
     "metadata": {},
     "output_type": "execute_result"
    }
   ],
   "source": [
    "# the best precision score comes from a decision tree classifier with max_depth=20 and max_features=50\n",
    "# and recall = 0.46\n",
    "\n",
    "dt = DecisionTreeClassifier(max_depth=20, max_features=50, random_state=414)\n",
    "dt.fit(X_train, y_train).score(X_train, y_train)\n",
    "\n",
    "\n",
    "# It gets almost perfect on the train set\n",
    "\n",
    "dt.score(X_valid, y_valid)\n",
    "\n",
    "# and ~82.6% on the validation set\n",
    "\n",
    "prelim_matrix = pd.DataFrame(confusion_matrix(y_valid, dt.predict(X_valid)))\n",
    "\n",
    "\n",
    "preliminary_matrix = prelim_matrix.rename(columns={0:\"predicted negative\", 1:'predicted positive'}, \n",
    "                  index={0:\"predicted negative\", 1:'predicted positive'}).swapaxes(0,1)\n",
    "\n",
    "preliminary_matrix.to_csv('../data/preliminary_matrix.csv')\n",
    "\n",
    "preliminary_matrix"
   ]
  },
  {
   "cell_type": "code",
   "execution_count": 81,
   "metadata": {},
   "outputs": [
    {
     "data": {
      "text/plain": [
       "0.8260869565217391"
      ]
     },
     "execution_count": 81,
     "metadata": {},
     "output_type": "execute_result"
    }
   ],
   "source": [
    "dt.score(X_valid, y_valid)"
   ]
  },
  {
   "cell_type": "code",
   "execution_count": 82,
   "metadata": {},
   "outputs": [],
   "source": [
    "## Subset just the questions:\n",
    "\n",
    "questions = ['A1_Score',\n",
    "       'A2_Score',\n",
    "       'A3_Score',\n",
    "       'A4_Score',\n",
    "       'A5_Score',\n",
    "       'A6_Score',\n",
    "       'A7_Score',\n",
    "       'A8_Score',\n",
    "       'A9_Score',\n",
    "       'A10_Score']\n",
    "\n",
    "questions_train_df = X_train[questions]\n",
    "\n",
    "questions_valid_df = X_valid[questions]\n",
    "\n",
    "questions_test_df = X_test[questions]"
   ]
  },
  {
   "cell_type": "code",
   "execution_count": 83,
   "metadata": {},
   "outputs": [],
   "source": [
    "# Attribution: Varada Kolhatkar\n",
    "\n",
    "class ForwardSelection:\n",
    "    def __init__(self, \n",
    "                 model, \n",
    "                 min_features=None, \n",
    "                 max_features=None, \n",
    "                 scoring=None, \n",
    "                 cv=None):\n",
    "        \"\"\"\n",
    "        Initializes a model object that can then fit and transform train and test data\n",
    "        \"\"\"\n",
    "        self.max_features = max_features\n",
    "        if min_features is None:\n",
    "            self.min_features = 1\n",
    "        else:\n",
    "            self.min_features = min_features\n",
    "\n",
    "        self.model = model\n",
    "        self.scoring = scoring\n",
    "        self.cv = cv\n",
    "        self.ftr_ = []\n",
    "        return\n",
    "    \n",
    "    def fit(self, X, y):\n",
    "        \"\"\"\n",
    "        Finds the features from X that best predict y\n",
    "        \"\"\"\n",
    "        \n",
    "        error = np.inf\n",
    "        best = None\n",
    "        feature_index = list(range(0, (X.shape[1])))\n",
    "        errors = []\n",
    "        \n",
    "        X_train, X_test, y_train, y_test = train_test_split(X, y, test_size=0.2, random_state=514)\n",
    "\n",
    "        X_temp = X_train\n",
    "\n",
    "        while error > 0.0:\n",
    "            if best is not None:\n",
    "                if best not in feature_index:\n",
    "                    del feature_index[-2]\n",
    "                    break\n",
    "                feature_index.remove(best)\n",
    "\n",
    "            for i in feature_index:\n",
    "                self.model.fit(X_temp[:, self.ftr_ + [i]], y_train)\n",
    "                temp_error = 1-np.mean(cross_val_score(self.model, X[:, self.ftr_ + [i]], y, scoring='f1'))\n",
    "\n",
    "                if temp_error < error:\n",
    "                    error = temp_error\n",
    "                    best = i\n",
    "\n",
    "            errors.append(round(error, 3))\n",
    "\n",
    "            if len(errors) > 2:\n",
    "                if errors[-1] >= errors[-2]:\n",
    "                    break\n",
    "\n",
    "            if self.max_features is not None:\n",
    "                if len(errors) > self.max_features:\n",
    "                    break\n",
    "\n",
    "            self.ftr_.append(best)\n",
    "\n",
    "\n",
    "    def transform(self, X, y=None):\n",
    "        \"\"\"\n",
    "        Transforms the test set to have the best features selected from self.fit()        \n",
    "        \"\"\"\n",
    "        return X[:, self.ftr_]\n",
    "    "
   ]
  },
  {
   "cell_type": "code",
   "execution_count": 84,
   "metadata": {},
   "outputs": [
    {
     "data": {
      "text/plain": [
       "[0, 0]"
      ]
     },
     "execution_count": 84,
     "metadata": {},
     "output_type": "execute_result"
    }
   ],
   "source": [
    "fs = ForwardSelection(DecisionTreeClassifier(), max_features=None)\n",
    "\n",
    "# np.mean(cross_val_score(dt, questions_train_df, y_train, scoring='precision'))\n",
    "\n",
    "fs.fit(questions_train_df.to_numpy(), y_train)\n",
    "\n",
    "fs.ftr_\n",
    "\n",
    "# No single one question is better than any other one question so forward selection won't work\n",
    "# Or it just won't work with a decision tree"
   ]
  },
  {
   "cell_type": "code",
   "execution_count": 85,
   "metadata": {},
   "outputs": [],
   "source": [
    "# Find the best features using RFE\n",
    "rfe=RFE(DecisionTreeClassifier(), n_features_to_select=5)\n",
    "\n",
    "rfe.fit(questions_train_df, y_train)\n",
    "\n",
    "# The top 5 questions:\n",
    "\n",
    "top_five = np.where(rfe.ranking_ == 1)[0]\n",
    "\n",
    "X_train_best_5 = questions_train_df.to_numpy()[:,top_five]\n",
    "X_test_best_5 = questions_test_df.to_numpy()[:,top_five]\n",
    "X_valid_best_5 = questions_valid_df.to_numpy()[:,top_five]"
   ]
  },
  {
   "cell_type": "code",
   "execution_count": 86,
   "metadata": {},
   "outputs": [
    {
     "data": {
      "text/plain": [
       "array([3, 4, 5, 7, 9])"
      ]
     },
     "execution_count": 86,
     "metadata": {},
     "output_type": "execute_result"
    }
   ],
   "source": [
    "np.where(rfe.ranking_ == 1)[0]"
   ]
  },
  {
   "cell_type": "code",
   "execution_count": 87,
   "metadata": {},
   "outputs": [],
   "source": [
    "### Best questions \n",
    "\n",
    "# The top five questions are A4, A5, A6, A8, and A10"
   ]
  },
  {
   "cell_type": "code",
   "execution_count": 88,
   "metadata": {},
   "outputs": [
    {
     "data": {
      "text/html": [
       "<div>\n",
       "<style scoped>\n",
       "    .dataframe tbody tr th:only-of-type {\n",
       "        vertical-align: middle;\n",
       "    }\n",
       "\n",
       "    .dataframe tbody tr th {\n",
       "        vertical-align: top;\n",
       "    }\n",
       "\n",
       "    .dataframe thead th {\n",
       "        text-align: right;\n",
       "    }\n",
       "</style>\n",
       "<table border=\"1\" class=\"dataframe\">\n",
       "  <thead>\n",
       "    <tr style=\"text-align: right;\">\n",
       "      <th></th>\n",
       "      <th>0</th>\n",
       "      <th>1</th>\n",
       "    </tr>\n",
       "  </thead>\n",
       "  <tbody>\n",
       "    <tr>\n",
       "      <th>0</th>\n",
       "      <td>76</td>\n",
       "      <td>0</td>\n",
       "    </tr>\n",
       "    <tr>\n",
       "      <th>1</th>\n",
       "      <td>16</td>\n",
       "      <td>0</td>\n",
       "    </tr>\n",
       "  </tbody>\n",
       "</table>\n",
       "</div>"
      ],
      "text/plain": [
       "    0  1\n",
       "0  76  0\n",
       "1  16  0"
      ]
     },
     "execution_count": 88,
     "metadata": {},
     "output_type": "execute_result"
    }
   ],
   "source": [
    "# Can't use max_features=50 as there are only 5 features\n",
    "dt2 = DecisionTreeClassifier(max_depth=20, max_features=5, random_state=414)\n",
    "\n",
    "dt2.fit(X_train_best_5, y_train)\n",
    "\n",
    "pd.DataFrame(confusion_matrix(y_valid, dt2.predict(X_valid_best_5)))\n",
    "\n",
    "# Using just the top 5 questions gets a much worse result than using all the features"
   ]
  },
  {
   "cell_type": "code",
   "execution_count": 89,
   "metadata": {},
   "outputs": [
    {
     "name": "stdout",
     "output_type": "stream",
     "text": [
      "              precision    recall  f1-score   support\n",
      "\n",
      "           0       0.83      1.00      0.90        76\n",
      "           1       0.00      0.00      0.00        16\n",
      "\n",
      "    accuracy                           0.83        92\n",
      "   macro avg       0.41      0.50      0.45        92\n",
      "weighted avg       0.68      0.83      0.75        92\n",
      "\n"
     ]
    },
    {
     "name": "stderr",
     "output_type": "stream",
     "text": [
      "/Users/matt/anaconda3/lib/python3.7/site-packages/sklearn/metrics/_classification.py:1268: UndefinedMetricWarning: Precision and F-score are ill-defined and being set to 0.0 in labels with no predicted samples. Use `zero_division` parameter to control this behavior.\n",
      "  _warn_prf(average, modifier, msg_start, len(result))\n"
     ]
    }
   ],
   "source": [
    "# Recall of 0 with top five questions\n",
    "print(classification_report(y_valid, dt2.predict(X_valid_best_5)))"
   ]
  },
  {
   "cell_type": "code",
   "execution_count": 90,
   "metadata": {},
   "outputs": [
    {
     "data": {
      "text/html": [
       "<div>\n",
       "<style scoped>\n",
       "    .dataframe tbody tr th:only-of-type {\n",
       "        vertical-align: middle;\n",
       "    }\n",
       "\n",
       "    .dataframe tbody tr th {\n",
       "        vertical-align: top;\n",
       "    }\n",
       "\n",
       "    .dataframe thead th {\n",
       "        text-align: right;\n",
       "    }\n",
       "</style>\n",
       "<table border=\"1\" class=\"dataframe\">\n",
       "  <thead>\n",
       "    <tr style=\"text-align: right;\">\n",
       "      <th></th>\n",
       "      <th>0</th>\n",
       "      <th>1</th>\n",
       "    </tr>\n",
       "  </thead>\n",
       "  <tbody>\n",
       "    <tr>\n",
       "      <th>0</th>\n",
       "      <td>70</td>\n",
       "      <td>6</td>\n",
       "    </tr>\n",
       "    <tr>\n",
       "      <th>1</th>\n",
       "      <td>13</td>\n",
       "      <td>3</td>\n",
       "    </tr>\n",
       "  </tbody>\n",
       "</table>\n",
       "</div>"
      ],
      "text/plain": [
       "    0  1\n",
       "0  70  6\n",
       "1  13  3"
      ]
     },
     "execution_count": 90,
     "metadata": {},
     "output_type": "execute_result"
    }
   ],
   "source": [
    "# Try all questions:\n",
    "dt3 = DecisionTreeClassifier(max_depth=20, max_features=10, random_state=414)\n",
    "\n",
    "dt3.fit(questions_train_df, y_train)\n",
    "\n",
    "pd.DataFrame(confusion_matrix(y_valid, dt3.predict(questions_valid_df)))\n"
   ]
  },
  {
   "cell_type": "code",
   "execution_count": 91,
   "metadata": {},
   "outputs": [
    {
     "name": "stdout",
     "output_type": "stream",
     "text": [
      "              precision    recall  f1-score   support\n",
      "\n",
      "           0       0.84      0.92      0.88        76\n",
      "           1       0.33      0.19      0.24        16\n",
      "\n",
      "    accuracy                           0.79        92\n",
      "   macro avg       0.59      0.55      0.56        92\n",
      "weighted avg       0.75      0.79      0.77        92\n",
      "\n"
     ]
    }
   ],
   "source": [
    "# Recall of 0.19 with all questions on validation set\n",
    "print(classification_report(y_valid, dt3.predict(questions_valid_df)))"
   ]
  },
  {
   "cell_type": "code",
   "execution_count": 92,
   "metadata": {},
   "outputs": [
    {
     "name": "stdout",
     "output_type": "stream",
     "text": [
      "              precision    recall  f1-score   support\n",
      "\n",
      "           0       0.88      0.92      0.90        76\n",
      "           1       0.50      0.38      0.43        16\n",
      "\n",
      "    accuracy                           0.83        92\n",
      "   macro avg       0.69      0.65      0.66        92\n",
      "weighted avg       0.81      0.83      0.82        92\n",
      "\n"
     ]
    }
   ],
   "source": [
    "# Recall with 0.38 with all features on validation set\n",
    "print(classification_report(y_valid, dt.predict(X_valid)))"
   ]
  },
  {
   "cell_type": "code",
   "execution_count": 93,
   "metadata": {},
   "outputs": [
    {
     "name": "stdout",
     "output_type": "stream",
     "text": [
      "              precision    recall  f1-score   support\n",
      "\n",
      "           0       0.86      0.86      0.86       100\n",
      "           1       0.07      0.07      0.07        15\n",
      "\n",
      "    accuracy                           0.76       115\n",
      "   macro avg       0.46      0.46      0.46       115\n",
      "weighted avg       0.76      0.76      0.76       115\n",
      "\n"
     ]
    }
   ],
   "source": [
    "# Recall of 0.07 with all features on test set\n",
    "print(classification_report(y_test, dt.predict(X_test)))"
   ]
  },
  {
   "cell_type": "code",
   "execution_count": 94,
   "metadata": {},
   "outputs": [],
   "source": [
    "conf_matrix = pd.DataFrame(confusion_matrix(y_test, dt.predict(X_test)))\n",
    "\n",
    "final_matrix = conf_matrix.rename(columns={0:\"predicted negative\", 1:'predicted positive'}, \n",
    "                  index={0:\"actual negative\", 1:'actual positive'}).swapaxes(0,1)\n",
    "\n",
    "final_matrix.to_csv('../data/confusion_matrix.csv')"
   ]
  },
  {
   "cell_type": "code",
   "execution_count": 95,
   "metadata": {},
   "outputs": [],
   "source": [
    "# ROC curve\n",
    "\n",
    "fpr, tpr, _ = roc_curve(y_valid, dt.predict_proba(X_valid)[:,1])\n",
    "\n",
    "roc_df = pd.DataFrame({\"fpr\":fpr, \"tpr\":tpr})\n",
    "\n",
    "line_df = pd.DataFrame({\"start\":[0,1], \"end\":[0,1]})\n",
    "\n",
    "roc = alt.Chart(roc_df).mark_line().encode(\n",
    "    x = alt.X(\"fpr:Q\"),\n",
    "    y = alt.Y(\"tpr:Q\")\n",
    ")\n",
    "    \n",
    "line = alt.Chart(line_df).mark_line(strokeDash=[5,5], color=\"orange\").encode(\n",
    "    x = alt.X(\"start:Q\", axis=alt.Axis(title=\"False Positive Rate\")),\n",
    "    y = alt.Y(\"end:Q\", axis=alt.Axis(title=\"True Positive Rate\"))\n",
    ")\n",
    "    \n",
    "chart = (roc + line).configure_axis(titleFontSize=20).properties(title=\"ROC Curve\").configure_title(fontSize=20)\n",
    "\n",
    "chart\n",
    "\n",
    "chart.save('../img/ROC.png', webdriver='firefox')"
   ]
  },
  {
   "cell_type": "code",
   "execution_count": 96,
   "metadata": {},
   "outputs": [
    {
     "data": {
      "text/plain": [
       "array([0.24230255, 0.09187677, 0.00786028, 0.03161909, 0.        ,\n",
       "       0.00683777, 0.        , 0.0215263 , 0.        , 0.0044447 ,\n",
       "       0.00910464, 0.        , 0.01837712, 0.01519504, 0.01139628,\n",
       "       0.00959848, 0.        , 0.        , 0.        , 0.02053229,\n",
       "       0.        , 0.01840299, 0.01876383, 0.        , 0.02704742,\n",
       "       0.        , 0.        , 0.        , 0.        , 0.        ,\n",
       "       0.        , 0.        , 0.        , 0.        , 0.        ,\n",
       "       0.        , 0.01823405, 0.        , 0.        , 0.0091616 ,\n",
       "       0.        , 0.        , 0.01709442, 0.        , 0.        ,\n",
       "       0.01709442, 0.        , 0.        , 0.        , 0.        ,\n",
       "       0.        , 0.01005035, 0.        , 0.        , 0.        ,\n",
       "       0.        , 0.        , 0.        , 0.02855457, 0.        ,\n",
       "       0.        , 0.01709442, 0.00956532, 0.08926987, 0.01519504,\n",
       "       0.        , 0.00505584, 0.        , 0.        , 0.        ,\n",
       "       0.00486859, 0.01696613, 0.        , 0.        , 0.01139628,\n",
       "       0.        , 0.01139628, 0.01139628, 0.04714017, 0.01139628,\n",
       "       0.        , 0.00035521, 0.05394238, 0.        , 0.03988697])"
      ]
     },
     "execution_count": 96,
     "metadata": {},
     "output_type": "execute_result"
    }
   ],
   "source": [
    "## Extra stuff\n",
    "\n",
    "# Importance of each feature according to the model\n",
    "dt.feature_importances_"
   ]
  },
  {
   "cell_type": "code",
   "execution_count": 97,
   "metadata": {},
   "outputs": [
    {
     "data": {
      "application/vnd.vegalite.v3+json": {
       "$schema": "https://vega.github.io/schema/vega-lite/v3.4.0.json",
       "config": {
        "axis": {
         "titleFontSize": 20
        },
        "mark": {
         "tooltip": null
        },
        "title": {
         "fontSize": 20
        },
        "view": {
         "height": 300,
         "width": 400
        }
       },
       "datasets": {
        "data-693a260ced41ee7a48211a95a5ad7e1a": [
         {
          "fpr": 0,
          "tpr": 0
         },
         {
          "fpr": 0.07894736842105263,
          "tpr": 0.375
         },
         {
          "fpr": 1,
          "tpr": 1
         }
        ],
        "data-f4809202ef9fd364138320dbf6e2580f": [
         {
          "end": 0,
          "start": 0
         },
         {
          "end": 1,
          "start": 1
         }
        ]
       },
       "layer": [
        {
         "data": {
          "name": "data-693a260ced41ee7a48211a95a5ad7e1a"
         },
         "encoding": {
          "x": {
           "field": "fpr",
           "type": "quantitative"
          },
          "y": {
           "field": "tpr",
           "type": "quantitative"
          }
         },
         "mark": "line"
        },
        {
         "data": {
          "name": "data-f4809202ef9fd364138320dbf6e2580f"
         },
         "encoding": {
          "x": {
           "axis": {
            "title": "False Positive Rate"
           },
           "field": "start",
           "type": "quantitative"
          },
          "y": {
           "axis": {
            "title": "True Positive Rate"
           },
           "field": "end",
           "type": "quantitative"
          }
         },
         "mark": {
          "color": "orange",
          "strokeDash": [
           5,
           5
          ],
          "type": "line"
         }
        }
       ],
       "title": "ROC Curve"
      },
      "image/png": "[encoded data removed]",
      "text/plain": [
       "<VegaLite 3 object>\n",
       "\n",
       "If you see this message, it means the renderer has not been properly enabled\n",
       "for the frontend that you are using. For more information, see\n",
       "https://altair-viz.github.io/user_guide/troubleshooting.html\n"
      ]
     },
     "execution_count": 97,
     "metadata": {},
     "output_type": "execute_result"
    }
   ],
   "source": [
    "chart"
   ]
  },
  {
   "cell_type": "code",
   "execution_count": null,
   "metadata": {},
   "outputs": [],
   "source": []
  }
 ],
 "metadata": {
  "kernelspec": {
   "display_name": "Python 3",
   "language": "python",
   "name": "python3"
  },
  "language_info": {
   "codemirror_mode": {
    "name": "ipython",
    "version": 3
   },
   "file_extension": ".py",
   "mimetype": "text/x-python",
   "name": "python",
   "nbconvert_exporter": "python",
   "pygments_lexer": "ipython3",
   "version": "3.7.4"
  }
 },
 "nbformat": 4,
 "nbformat_minor": 4
}
